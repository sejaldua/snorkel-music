{
 "cells": [
  {
   "cell_type": "code",
   "execution_count": 6,
   "metadata": {
    "ExecuteTime": {
     "end_time": "2020-08-20T05:55:55.651393Z",
     "start_time": "2020-08-20T05:55:55.640154Z"
    }
   },
   "outputs": [],
   "source": [
    "import config\n",
    "import requests\n",
    "import spotipy\n",
    "from spotipy.oauth2 import SpotifyClientCredentials\n",
    "from pprint import pprint\n",
    "import pandas as pd "
   ]
  },
  {
   "cell_type": "code",
   "execution_count": 7,
   "metadata": {
    "ExecuteTime": {
     "end_time": "2020-08-20T05:55:56.578055Z",
     "start_time": "2020-08-20T05:55:56.416456Z"
    }
   },
   "outputs": [
    {
     "name": "stderr",
     "output_type": "stream",
     "text": [
      "/anaconda3/lib/python3.6/site-packages/ipykernel_launcher.py:6: DeprecationWarning: You're using 'as_dict = True'.get_access_token will return the token string directly in future versions. Please adjust your code accordingly, or use get_cached_token instead.\n",
      "  \n"
     ]
    }
   ],
   "source": [
    "auth = SpotifyClientCredentials(\n",
    "    client_id=config.SPOTIPY_CLIENT_ID,\n",
    "    client_secret=config.SPOTIPY_CLIENT_SECRET\n",
    ")\n",
    "\n",
    "token = auth.get_access_token()\n",
    "sp = spotipy.Spotify(auth=token)"
   ]
  },
  {
   "cell_type": "code",
   "execution_count": 10,
   "metadata": {
    "ExecuteTime": {
     "end_time": "2020-08-20T06:05:45.377630Z",
     "start_time": "2020-08-20T06:05:45.324093Z"
    }
   },
   "outputs": [],
   "source": [
    "def get_tracks_from_playlist(playlist_URI):\n",
    "    offset = 0\n",
    "    tracklist = []\n",
    "    while True:\n",
    "        response = sp.playlist_tracks(playlist_URI,\n",
    "                                     offset=offset,\n",
    "                                     fields='items.track.id,total',\n",
    "                                     additional_types=['track'])\n",
    "        tracks = response['items']\n",
    "        for track in tracks:\n",
    "            track_id = track['track']['id']\n",
    "            tracklist.append(track_id)\n",
    "\n",
    "        offset = offset + len(response['items'])\n",
    "#         print(offset, \"/\", response['total'])\n",
    "\n",
    "        if len(response['items']) == 0:\n",
    "            break\n",
    "            \n",
    "    return tracklist\n",
    "\n",
    "def create_augmented_df(playlist_URI, polarity=None):\n",
    "    df = pd.DataFrame(columns=['track id'])\n",
    "    df['track id'] = get_tracks_from_playlist(playlist_URI)\n",
    "    if polarity:\n",
    "        df['gt label'] = df['track id'].apply(lambda x: polarity)\n",
    "    df['track name'] = df['track id'].apply(lambda x: sp.tracks([x])['tracks'][0]['name'])\n",
    "    df['artist'] = df['track id'].apply(lambda x: sp.tracks([x])['tracks'][0]['artists'][0]['name'])\n",
    "    df['danceability'] = df['track id'].apply(lambda x: sp.audio_features(x)[0][\"danceability\"])\n",
    "    df['energy'] = df['track id'].apply(lambda x: sp.audio_features(x)[0][\"energy\"])\n",
    "    df['key'] = df['track id'].apply(lambda x: sp.audio_features(x)[0][\"key\"])\n",
    "    df['loudness'] = df['track id'].apply(lambda x: sp.audio_features(x)[0][\"loudness\"])\n",
    "    df['mode'] = df['track id'].apply(lambda x: sp.audio_features(x)[0][\"mode\"])\n",
    "    df['speechiness'] = df['track id'].apply(lambda x: sp.audio_features(x)[0][\"speechiness\"])\n",
    "    df['acousticness'] = df['track id'].apply(lambda x: sp.audio_features(x)[0][\"acousticness\"])\n",
    "    df['instrumentalness'] = df['track id'].apply(lambda x: sp.audio_features(x)[0][\"instrumentalness\"])\n",
    "    df['liveness'] = df['track id'].apply(lambda x: sp.audio_features(x)[0][\"liveness\"])\n",
    "    df['valence'] = df['track id'].apply(lambda x: sp.audio_features(x)[0][\"valence\"])\n",
    "    df['tempo'] = df['track id'].apply(lambda x: sp.audio_features(x)[0][\"tempo\"])\n",
    "    return df\n",
    "\n"
   ]
  },
  {
   "cell_type": "code",
   "execution_count": 11,
   "metadata": {
    "ExecuteTime": {
     "end_time": "2020-08-20T06:09:58.920744Z",
     "start_time": "2020-08-20T06:05:46.475055Z"
    }
   },
   "outputs": [
    {
     "data": {
      "text/html": [
       "<div>\n",
       "<style scoped>\n",
       "    .dataframe tbody tr th:only-of-type {\n",
       "        vertical-align: middle;\n",
       "    }\n",
       "\n",
       "    .dataframe tbody tr th {\n",
       "        vertical-align: top;\n",
       "    }\n",
       "\n",
       "    .dataframe thead th {\n",
       "        text-align: right;\n",
       "    }\n",
       "</style>\n",
       "<table border=\"1\" class=\"dataframe\">\n",
       "  <thead>\n",
       "    <tr style=\"text-align: right;\">\n",
       "      <th></th>\n",
       "      <th>track id</th>\n",
       "      <th>gt label</th>\n",
       "      <th>track name</th>\n",
       "      <th>artist</th>\n",
       "      <th>danceability</th>\n",
       "      <th>energy</th>\n",
       "      <th>key</th>\n",
       "      <th>loudness</th>\n",
       "      <th>mode</th>\n",
       "      <th>speechiness</th>\n",
       "      <th>acousticness</th>\n",
       "      <th>instrumentalness</th>\n",
       "      <th>liveness</th>\n",
       "      <th>valence</th>\n",
       "      <th>tempo</th>\n",
       "    </tr>\n",
       "  </thead>\n",
       "  <tbody>\n",
       "    <tr>\n",
       "      <th>0</th>\n",
       "      <td>2u6Jm2klS4yvAlbSHlxUwI</td>\n",
       "      <td>1</td>\n",
       "      <td>Alane</td>\n",
       "      <td>Robin Schulz</td>\n",
       "      <td>0.581</td>\n",
       "      <td>0.799</td>\n",
       "      <td>3</td>\n",
       "      <td>-6.660</td>\n",
       "      <td>1</td>\n",
       "      <td>0.1640</td>\n",
       "      <td>0.04190</td>\n",
       "      <td>0.000009</td>\n",
       "      <td>0.1100</td>\n",
       "      <td>0.662</td>\n",
       "      <td>124.002</td>\n",
       "    </tr>\n",
       "    <tr>\n",
       "      <th>1</th>\n",
       "      <td>2hCKAnd2BPo2VD65XZC3rH</td>\n",
       "      <td>1</td>\n",
       "      <td>Your Place or Mine</td>\n",
       "      <td>Wahlstedt</td>\n",
       "      <td>0.863</td>\n",
       "      <td>0.608</td>\n",
       "      <td>7</td>\n",
       "      <td>-2.996</td>\n",
       "      <td>1</td>\n",
       "      <td>0.1490</td>\n",
       "      <td>0.18000</td>\n",
       "      <td>0.000003</td>\n",
       "      <td>0.1140</td>\n",
       "      <td>0.389</td>\n",
       "      <td>126.053</td>\n",
       "    </tr>\n",
       "    <tr>\n",
       "      <th>2</th>\n",
       "      <td>73h6Ma5QhBFrshEN2CTevS</td>\n",
       "      <td>1</td>\n",
       "      <td>Someday</td>\n",
       "      <td>Kygo</td>\n",
       "      <td>0.612</td>\n",
       "      <td>0.686</td>\n",
       "      <td>7</td>\n",
       "      <td>-6.838</td>\n",
       "      <td>1</td>\n",
       "      <td>0.1200</td>\n",
       "      <td>0.17300</td>\n",
       "      <td>0.000000</td>\n",
       "      <td>0.1410</td>\n",
       "      <td>0.326</td>\n",
       "      <td>122.115</td>\n",
       "    </tr>\n",
       "    <tr>\n",
       "      <th>3</th>\n",
       "      <td>75rGONmoi48LLYBFaGiYsv</td>\n",
       "      <td>1</td>\n",
       "      <td>Both Of Us - Edit</td>\n",
       "      <td>Jayda G</td>\n",
       "      <td>0.735</td>\n",
       "      <td>0.710</td>\n",
       "      <td>11</td>\n",
       "      <td>-10.222</td>\n",
       "      <td>1</td>\n",
       "      <td>0.0766</td>\n",
       "      <td>0.00851</td>\n",
       "      <td>0.762000</td>\n",
       "      <td>0.0684</td>\n",
       "      <td>0.507</td>\n",
       "      <td>123.962</td>\n",
       "    </tr>\n",
       "    <tr>\n",
       "      <th>4</th>\n",
       "      <td>5zn3TuX5oBHrEv8R9KyLir</td>\n",
       "      <td>1</td>\n",
       "      <td>Ladida (My Heart Goes Boom) [feat. ILIRA]</td>\n",
       "      <td>CRISPIE</td>\n",
       "      <td>0.682</td>\n",
       "      <td>0.812</td>\n",
       "      <td>0</td>\n",
       "      <td>-4.931</td>\n",
       "      <td>1</td>\n",
       "      <td>0.0307</td>\n",
       "      <td>0.11100</td>\n",
       "      <td>0.000021</td>\n",
       "      <td>0.1370</td>\n",
       "      <td>0.455</td>\n",
       "      <td>126.040</td>\n",
       "    </tr>\n",
       "  </tbody>\n",
       "</table>\n",
       "</div>"
      ],
      "text/plain": [
       "                 track id  gt label  \\\n",
       "0  2u6Jm2klS4yvAlbSHlxUwI         1   \n",
       "1  2hCKAnd2BPo2VD65XZC3rH         1   \n",
       "2  73h6Ma5QhBFrshEN2CTevS         1   \n",
       "3  75rGONmoi48LLYBFaGiYsv         1   \n",
       "4  5zn3TuX5oBHrEv8R9KyLir         1   \n",
       "\n",
       "                                  track name        artist  danceability  \\\n",
       "0                                      Alane  Robin Schulz         0.581   \n",
       "1                         Your Place or Mine     Wahlstedt         0.863   \n",
       "2                                    Someday          Kygo         0.612   \n",
       "3                          Both Of Us - Edit       Jayda G         0.735   \n",
       "4  Ladida (My Heart Goes Boom) [feat. ILIRA]       CRISPIE         0.682   \n",
       "\n",
       "   energy  key  loudness  mode  speechiness  acousticness  instrumentalness  \\\n",
       "0   0.799    3    -6.660     1       0.1640       0.04190          0.000009   \n",
       "1   0.608    7    -2.996     1       0.1490       0.18000          0.000003   \n",
       "2   0.686    7    -6.838     1       0.1200       0.17300          0.000000   \n",
       "3   0.710   11   -10.222     1       0.0766       0.00851          0.762000   \n",
       "4   0.812    0    -4.931     1       0.0307       0.11100          0.000021   \n",
       "\n",
       "   liveness  valence    tempo  \n",
       "0    0.1100    0.662  124.002  \n",
       "1    0.1140    0.389  126.053  \n",
       "2    0.1410    0.326  122.115  \n",
       "3    0.0684    0.507  123.962  \n",
       "4    0.1370    0.455  126.040  "
      ]
     },
     "execution_count": 11,
     "metadata": {},
     "output_type": "execute_result"
    }
   ],
   "source": [
    "# happy beats\n",
    "df1 = create_augmented_df('spotify:playlist:37i9dQZF1DWSf2RDTDayIx', 1)\n",
    "df1.head()"
   ]
  },
  {
   "cell_type": "code",
   "execution_count": 12,
   "metadata": {
    "ExecuteTime": {
     "end_time": "2020-08-20T06:18:59.112478Z",
     "start_time": "2020-08-20T06:17:01.121490Z"
    }
   },
   "outputs": [
    {
     "data": {
      "text/html": [
       "<div>\n",
       "<style scoped>\n",
       "    .dataframe tbody tr th:only-of-type {\n",
       "        vertical-align: middle;\n",
       "    }\n",
       "\n",
       "    .dataframe tbody tr th {\n",
       "        vertical-align: top;\n",
       "    }\n",
       "\n",
       "    .dataframe thead th {\n",
       "        text-align: right;\n",
       "    }\n",
       "</style>\n",
       "<table border=\"1\" class=\"dataframe\">\n",
       "  <thead>\n",
       "    <tr style=\"text-align: right;\">\n",
       "      <th></th>\n",
       "      <th>track id</th>\n",
       "      <th>track name</th>\n",
       "      <th>artist</th>\n",
       "      <th>danceability</th>\n",
       "      <th>energy</th>\n",
       "      <th>key</th>\n",
       "      <th>loudness</th>\n",
       "      <th>mode</th>\n",
       "      <th>speechiness</th>\n",
       "      <th>acousticness</th>\n",
       "      <th>instrumentalness</th>\n",
       "      <th>liveness</th>\n",
       "      <th>valence</th>\n",
       "      <th>tempo</th>\n",
       "    </tr>\n",
       "  </thead>\n",
       "  <tbody>\n",
       "    <tr>\n",
       "      <th>0</th>\n",
       "      <td>4CxFN5zON70B3VOPBYbd6P</td>\n",
       "      <td>you were good to me</td>\n",
       "      <td>Jeremy Zucker</td>\n",
       "      <td>0.561</td>\n",
       "      <td>0.0848</td>\n",
       "      <td>2</td>\n",
       "      <td>-15.099</td>\n",
       "      <td>1</td>\n",
       "      <td>0.0404</td>\n",
       "      <td>0.913</td>\n",
       "      <td>0.000026</td>\n",
       "      <td>0.1120</td>\n",
       "      <td>0.206</td>\n",
       "      <td>102.128</td>\n",
       "    </tr>\n",
       "    <tr>\n",
       "      <th>1</th>\n",
       "      <td>0VhgEqMTNZwYL1ARDLLNCX</td>\n",
       "      <td>Can I Be Him</td>\n",
       "      <td>James Arthur</td>\n",
       "      <td>0.696</td>\n",
       "      <td>0.5430</td>\n",
       "      <td>11</td>\n",
       "      <td>-6.164</td>\n",
       "      <td>1</td>\n",
       "      <td>0.0489</td>\n",
       "      <td>0.308</td>\n",
       "      <td>0.000000</td>\n",
       "      <td>0.0939</td>\n",
       "      <td>0.479</td>\n",
       "      <td>107.969</td>\n",
       "    </tr>\n",
       "    <tr>\n",
       "      <th>2</th>\n",
       "      <td>4IhAzl3KH8P7KFJ5KfBnvy</td>\n",
       "      <td>Pearl in Sandbox</td>\n",
       "      <td>Júníus Meyvant</td>\n",
       "      <td>0.595</td>\n",
       "      <td>0.0626</td>\n",
       "      <td>8</td>\n",
       "      <td>-21.945</td>\n",
       "      <td>1</td>\n",
       "      <td>0.0452</td>\n",
       "      <td>0.917</td>\n",
       "      <td>0.076500</td>\n",
       "      <td>0.0987</td>\n",
       "      <td>0.259</td>\n",
       "      <td>126.337</td>\n",
       "    </tr>\n",
       "    <tr>\n",
       "      <th>3</th>\n",
       "      <td>2TIlqbIneP0ZY1O0EzYLlc</td>\n",
       "      <td>Someone You Loved</td>\n",
       "      <td>Lewis Capaldi</td>\n",
       "      <td>0.501</td>\n",
       "      <td>0.4050</td>\n",
       "      <td>1</td>\n",
       "      <td>-5.679</td>\n",
       "      <td>1</td>\n",
       "      <td>0.0319</td>\n",
       "      <td>0.751</td>\n",
       "      <td>0.000000</td>\n",
       "      <td>0.1050</td>\n",
       "      <td>0.446</td>\n",
       "      <td>109.891</td>\n",
       "    </tr>\n",
       "    <tr>\n",
       "      <th>4</th>\n",
       "      <td>6ynqpQIQ1kGtJILbxnCIQ8</td>\n",
       "      <td>Tourist</td>\n",
       "      <td>Axel Flóvent</td>\n",
       "      <td>0.455</td>\n",
       "      <td>0.2090</td>\n",
       "      <td>6</td>\n",
       "      <td>-12.150</td>\n",
       "      <td>0</td>\n",
       "      <td>0.0265</td>\n",
       "      <td>0.741</td>\n",
       "      <td>0.001940</td>\n",
       "      <td>0.1130</td>\n",
       "      <td>0.109</td>\n",
       "      <td>89.909</td>\n",
       "    </tr>\n",
       "  </tbody>\n",
       "</table>\n",
       "</div>"
      ],
      "text/plain": [
       "                 track id           track name          artist  danceability  \\\n",
       "0  4CxFN5zON70B3VOPBYbd6P  you were good to me   Jeremy Zucker         0.561   \n",
       "1  0VhgEqMTNZwYL1ARDLLNCX         Can I Be Him    James Arthur         0.696   \n",
       "2  4IhAzl3KH8P7KFJ5KfBnvy     Pearl in Sandbox  Júníus Meyvant         0.595   \n",
       "3  2TIlqbIneP0ZY1O0EzYLlc    Someone You Loved   Lewis Capaldi         0.501   \n",
       "4  6ynqpQIQ1kGtJILbxnCIQ8              Tourist    Axel Flóvent         0.455   \n",
       "\n",
       "   energy  key  loudness  mode  speechiness  acousticness  instrumentalness  \\\n",
       "0  0.0848    2   -15.099     1       0.0404         0.913          0.000026   \n",
       "1  0.5430   11    -6.164     1       0.0489         0.308          0.000000   \n",
       "2  0.0626    8   -21.945     1       0.0452         0.917          0.076500   \n",
       "3  0.4050    1    -5.679     1       0.0319         0.751          0.000000   \n",
       "4  0.2090    6   -12.150     0       0.0265         0.741          0.001940   \n",
       "\n",
       "   liveness  valence    tempo  \n",
       "0    0.1120    0.206  102.128  \n",
       "1    0.0939    0.479  107.969  \n",
       "2    0.0987    0.259  126.337  \n",
       "3    0.1050    0.446  109.891  \n",
       "4    0.1130    0.109   89.909  "
      ]
     },
     "execution_count": 12,
     "metadata": {},
     "output_type": "execute_result"
    }
   ],
   "source": [
    "# life sucks\n",
    "df2 = create_augmented_df('spotify:playlist:37i9dQZF1DX3YSRoSdA634', 0)\n",
    "df2.head()"
   ]
  },
  {
   "cell_type": "code",
   "execution_count": null,
   "metadata": {
    "ExecuteTime": {
     "end_time": "2020-08-20T06:18:59.135227Z",
     "start_time": "2020-08-20T06:17:28.382Z"
    }
   },
   "outputs": [],
   "source": [
    "df_test = pd.concat([df1, df2])\n",
    "df_test"
   ]
  },
  {
   "cell_type": "code",
   "execution_count": null,
   "metadata": {
    "ExecuteTime": {
     "end_time": "2020-08-20T06:18:59.155107Z",
     "start_time": "2020-08-20T06:17:29.481Z"
    }
   },
   "outputs": [],
   "source": [
    "df_test.to_csv('./data/test.csv', index=False)"
   ]
  },
  {
   "cell_type": "code",
   "execution_count": 18,
   "metadata": {
    "ExecuteTime": {
     "end_time": "2020-08-20T06:24:28.749497Z",
     "start_time": "2020-08-20T06:24:28.481728Z"
    }
   },
   "outputs": [
    {
     "data": {
      "text/plain": [
       "<matplotlib.axes._subplots.AxesSubplot at 0x1161479b0>"
      ]
     },
     "execution_count": 18,
     "metadata": {},
     "output_type": "execute_result"
    },
    {
     "data": {
      "image/png": "[encoded data removed]",
      "text/plain": [
       "<Figure size 432x288 with 1 Axes>"
      ]
     },
     "metadata": {},
     "output_type": "display_data"
    }
   ],
   "source": [
    "df1['energy'].hist()"
   ]
  },
  {
   "cell_type": "code",
   "execution_count": 19,
   "metadata": {
    "ExecuteTime": {
     "end_time": "2020-08-20T06:24:32.699547Z",
     "start_time": "2020-08-20T06:24:32.404348Z"
    }
   },
   "outputs": [
    {
     "data": {
      "text/plain": [
       "<matplotlib.axes._subplots.AxesSubplot at 0x109115a20>"
      ]
     },
     "execution_count": 19,
     "metadata": {},
     "output_type": "execute_result"
    },
    {
     "data": {
      "image/png": "[encoded data removed]",
      "text/plain": [
       "<Figure size 432x288 with 1 Axes>"
      ]
     },
     "metadata": {},
     "output_type": "display_data"
    }
   ],
   "source": [
    "df2['energy'].hist()"
   ]
  },
  {
   "cell_type": "code",
   "execution_count": null,
   "metadata": {},
   "outputs": [],
   "source": []
  }
 ],
 "metadata": {
  "kernelspec": {
   "display_name": "Python 3",
   "language": "python",
   "name": "python3"
  },
  "language_info": {
   "codemirror_mode": {
    "name": "ipython",
    "version": 3
   },
   "file_extension": ".py",
   "mimetype": "text/x-python",
   "name": "python",
   "nbconvert_exporter": "python",
   "pygments_lexer": "ipython3",
   "version": "3.6.6"
  },
  "toc": {
   "base_numbering": 1,
   "nav_menu": {},
   "number_sections": true,
   "sideBar": true,
   "skip_h1_title": false,
   "title_cell": "Table of Contents",
   "title_sidebar": "Contents",
   "toc_cell": false,
   "toc_position": {},
   "toc_section_display": true,
   "toc_window_display": false
  },
  "varInspector": {
   "cols": {
    "lenName": 16,
    "lenType": 16,
    "lenVar": 40
   },
   "kernels_config": {
    "python": {
     "delete_cmd_postfix": "",
     "delete_cmd_prefix": "del ",
     "library": "var_list.py",
     "varRefreshCmd": "print(var_dic_list())"
    },
    "r": {
     "delete_cmd_postfix": ") ",
     "delete_cmd_prefix": "rm(",
     "library": "var_list.r",
     "varRefreshCmd": "cat(var_dic_list()) "
    }
   },
   "types_to_exclude": [
    "module",
    "function",
    "builtin_function_or_method",
    "instance",
    "_Feature"
   ],
   "window_display": false
  }
 },
 "nbformat": 4,
 "nbformat_minor": 2
}
