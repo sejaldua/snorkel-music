{
 "cells": [
  {
   "cell_type": "code",
   "execution_count": 104,
   "metadata": {
    "ExecuteTime": {
     "end_time": "2020-08-24T04:35:49.132934Z",
     "start_time": "2020-08-24T04:35:49.052478Z"
    }
   },
   "outputs": [],
   "source": [
    "import pandas as pd \n",
    "import numpy as np \n",
    "from snorkel.labeling import labeling_function \n",
    "from snorkel.labeling import LabelingFunction\n",
    "from snorkel.labeling.model import LabelModel\n",
    "from snorkel.labeling import PandasLFApplier\n",
    "from snorkel.labeling.model import MajorityLabelVoter\n",
    "from textblob import TextBlob \n",
    "from afinn import Afinn"
   ]
  },
  {
   "cell_type": "code",
   "execution_count": 112,
   "metadata": {
    "ExecuteTime": {
     "end_time": "2020-08-24T04:37:03.195685Z",
     "start_time": "2020-08-24T04:37:03.140975Z"
    }
   },
   "outputs": [],
   "source": [
    "df_train = pd.read_csv('data/train-lyrics.csv')\n",
    "df_test = pd.read_csv('data/test-lyrics.csv')"
   ]
  },
  {
   "cell_type": "code",
   "execution_count": 113,
   "metadata": {
    "ExecuteTime": {
     "end_time": "2020-08-24T04:37:06.209998Z",
     "start_time": "2020-08-24T04:37:06.203493Z"
    }
   },
   "outputs": [
    {
     "name": "stdout",
     "output_type": "stream",
     "text": [
      "Index(['track id', 'track name', 'artist', 'danceability', 'energy', 'key',\n",
      "       'loudness', 'mode', 'speechiness', 'acousticness', 'instrumentalness',\n",
      "       'liveness', 'valence', 'tempo', 'lyrics'],\n",
      "      dtype='object')\n",
      "Index(['track id', 'gt label', 'track name', 'artist', 'danceability',\n",
      "       'energy', 'key', 'loudness', 'mode', 'speechiness', 'acousticness',\n",
      "       'instrumentalness', 'liveness', 'valence', 'tempo', 'lyrics'],\n",
      "      dtype='object')\n"
     ]
    }
   ],
   "source": [
    "print(df_train.columns)\n",
    "print(df_test.columns)"
   ]
  },
  {
   "cell_type": "code",
   "execution_count": 114,
   "metadata": {
    "ExecuteTime": {
     "end_time": "2020-08-24T04:37:07.245549Z",
     "start_time": "2020-08-24T04:37:07.238722Z"
    }
   },
   "outputs": [],
   "source": [
    "# declare global variables\n",
    "DANCE = 1\n",
    "CHILL = 0\n",
    "ABSTAIN = -1"
   ]
  },
  {
   "cell_type": "code",
   "execution_count": 190,
   "metadata": {
    "ExecuteTime": {
     "end_time": "2020-08-24T05:22:29.188618Z",
     "start_time": "2020-08-24T05:22:28.866502Z"
    }
   },
   "outputs": [
    {
     "data": {
      "text/plain": [
       "<matplotlib.axes._subplots.AxesSubplot at 0x1381fb748>"
      ]
     },
     "execution_count": 190,
     "metadata": {},
     "output_type": "execute_result"
    },
    {
     "data": {
      "image/png": "[encoded data removed]",
      "text/plain": [
       "<Figure size 432x288 with 1 Axes>"
      ]
     },
     "metadata": {},
     "output_type": "display_data"
    }
   ],
   "source": [
    "df_test.loc[df_test['gt label'] == 1]['loudness'].hist()\n",
    "df_test.loc[df_test['gt label'] == 0]['loudness'].hist()"
   ]
  },
  {
   "cell_type": "code",
   "execution_count": 191,
   "metadata": {
    "ExecuteTime": {
     "end_time": "2020-08-24T05:22:29.771663Z",
     "start_time": "2020-08-24T05:22:29.514514Z"
    }
   },
   "outputs": [
    {
     "data": {
      "text/plain": [
       "<matplotlib.axes._subplots.AxesSubplot at 0x13845e5f8>"
      ]
     },
     "execution_count": 191,
     "metadata": {},
     "output_type": "execute_result"
    },
    {
     "data": {
      "image/png": "[encoded data removed]",
      "text/plain": [
       "<Figure size 432x288 with 1 Axes>"
      ]
     },
     "metadata": {},
     "output_type": "display_data"
    }
   ],
   "source": [
    "df_test.loc[df_test['gt label'] == 1]['instrumentalness'].hist()\n",
    "df_test.loc[df_test['gt label'] == 0]['instrumentalness'].hist()"
   ]
  },
  {
   "cell_type": "code",
   "execution_count": 192,
   "metadata": {
    "ExecuteTime": {
     "end_time": "2020-08-24T05:22:30.656846Z",
     "start_time": "2020-08-24T05:22:30.385453Z"
    }
   },
   "outputs": [
    {
     "data": {
      "text/plain": [
       "<matplotlib.axes._subplots.AxesSubplot at 0x1397fe710>"
      ]
     },
     "execution_count": 192,
     "metadata": {},
     "output_type": "execute_result"
    },
    {
     "data": {
      "image/png": "[encoded data removed]",
      "text/plain": [
       "<Figure size 432x288 with 1 Axes>"
      ]
     },
     "metadata": {},
     "output_type": "display_data"
    }
   ],
   "source": [
    "df_test.loc[df_test['gt label'] == 1]['danceability'].hist()\n",
    "df_test.loc[df_test['gt label'] == 0]['danceability'].hist()"
   ]
  },
  {
   "cell_type": "code",
   "execution_count": 193,
   "metadata": {
    "ExecuteTime": {
     "end_time": "2020-08-24T05:22:35.683821Z",
     "start_time": "2020-08-24T05:22:35.388380Z"
    }
   },
   "outputs": [
    {
     "data": {
      "text/plain": [
       "<matplotlib.axes._subplots.AxesSubplot at 0x13991aef0>"
      ]
     },
     "execution_count": 193,
     "metadata": {},
     "output_type": "execute_result"
    },
    {
     "data": {
      "image/png": "[encoded data removed]",
      "text/plain": [
       "<Figure size 432x288 with 1 Axes>"
      ]
     },
     "metadata": {},
     "output_type": "display_data"
    }
   ],
   "source": [
    "df_test.loc[df_test['gt label'] == 1]['acousticness'].hist()\n",
    "df_test.loc[df_test['gt label'] == 0]['acousticness'].hist()"
   ]
  },
  {
   "cell_type": "code",
   "execution_count": 143,
   "metadata": {
    "ExecuteTime": {
     "end_time": "2020-08-24T04:44:49.262063Z",
     "start_time": "2020-08-24T04:44:49.247967Z"
    }
   },
   "outputs": [
    {
     "name": "stdout",
     "output_type": "stream",
     "text": [
      "1.0\n",
      "-0.006060606060606077\n"
     ]
    }
   ],
   "source": [
    "import re \n",
    "\n",
    "def clean_lyrics(lyrics): \n",
    "    ''' \n",
    "    Utility function to clean lyrics by removing links, special characters \n",
    "    using simple regex statements. \n",
    "    '''\n",
    "    if pd.isnull(lyrics) or lyrics == \"\":\n",
    "        return ''\n",
    "    else:\n",
    "        return ' '.join(re.sub(\"(@[A-Za-z0-9]+)|([^0-9A-Za-z \\t]) |(\\w+:\\/\\/\\S+)\", \" \", lyrics).split()) \n",
    "    \n",
    "lyrics = df_train['lyrics'][0]\n",
    "cleaned = clean_lyrics(lyrics)\n",
    "print(afinn.score(cleaned))\n",
    "print(TextBlob(cleaned).sentiment.polarity)"
   ]
  },
  {
   "cell_type": "code",
   "execution_count": 144,
   "metadata": {
    "ExecuteTime": {
     "end_time": "2020-08-24T04:44:50.272417Z",
     "start_time": "2020-08-24T04:44:50.198113Z"
    }
   },
   "outputs": [],
   "source": [
    "df_train['lyrics'] = df_train['lyrics'].apply(clean_lyrics)\n",
    "df_test['lyrics'] = df_test['lyrics'].apply(clean_lyrics)"
   ]
  },
  {
   "cell_type": "code",
   "execution_count": 146,
   "metadata": {
    "ExecuteTime": {
     "end_time": "2020-08-24T04:46:22.730530Z",
     "start_time": "2020-08-24T04:46:06.680916Z"
    }
   },
   "outputs": [
    {
     "data": {
      "text/html": [
       "<div>\n",
       "<style scoped>\n",
       "    .dataframe tbody tr th:only-of-type {\n",
       "        vertical-align: middle;\n",
       "    }\n",
       "\n",
       "    .dataframe tbody tr th {\n",
       "        vertical-align: top;\n",
       "    }\n",
       "\n",
       "    .dataframe thead th {\n",
       "        text-align: right;\n",
       "    }\n",
       "</style>\n",
       "<table border=\"1\" class=\"dataframe\">\n",
       "  <thead>\n",
       "    <tr style=\"text-align: right;\">\n",
       "      <th></th>\n",
       "      <th>track id</th>\n",
       "      <th>track name</th>\n",
       "      <th>artist</th>\n",
       "      <th>danceability</th>\n",
       "      <th>energy</th>\n",
       "      <th>key</th>\n",
       "      <th>loudness</th>\n",
       "      <th>mode</th>\n",
       "      <th>speechiness</th>\n",
       "      <th>acousticness</th>\n",
       "      <th>instrumentalness</th>\n",
       "      <th>liveness</th>\n",
       "      <th>valence</th>\n",
       "      <th>tempo</th>\n",
       "      <th>lyrics</th>\n",
       "      <th>afinn</th>\n",
       "      <th>sentiment</th>\n",
       "    </tr>\n",
       "  </thead>\n",
       "  <tbody>\n",
       "    <tr>\n",
       "      <th>0</th>\n",
       "      <td>3fH4KjXFYMmljxrcGrbPj9</td>\n",
       "      <td>Don't You (Forget About Me)</td>\n",
       "      <td>Simple Minds</td>\n",
       "      <td>0.660</td>\n",
       "      <td>0.816</td>\n",
       "      <td>2.0</td>\n",
       "      <td>-6.610</td>\n",
       "      <td>1.0</td>\n",
       "      <td>0.0299</td>\n",
       "      <td>0.1680</td>\n",
       "      <td>0.018100</td>\n",
       "      <td>0.0608</td>\n",
       "      <td>0.678</td>\n",
       "      <td>111.346</td>\n",
       "      <td>Hey hey hey hey Ooh-hoo-ooh-ohh Won't you come...</td>\n",
       "      <td>1.0</td>\n",
       "      <td>-0.006061</td>\n",
       "    </tr>\n",
       "    <tr>\n",
       "      <th>1</th>\n",
       "      <td>4RvWPyQ5RL0ao9LPZeSouE</td>\n",
       "      <td>Everybody Wants To Rule The World</td>\n",
       "      <td>Tears For Fears</td>\n",
       "      <td>0.645</td>\n",
       "      <td>0.795</td>\n",
       "      <td>7.0</td>\n",
       "      <td>-12.095</td>\n",
       "      <td>1.0</td>\n",
       "      <td>0.0527</td>\n",
       "      <td>0.3470</td>\n",
       "      <td>0.003890</td>\n",
       "      <td>0.1040</td>\n",
       "      <td>0.535</td>\n",
       "      <td>112.067</td>\n",
       "      <td>Welcome to your life There's no turning back E...</td>\n",
       "      <td>4.0</td>\n",
       "      <td>0.371429</td>\n",
       "    </tr>\n",
       "    <tr>\n",
       "      <th>2</th>\n",
       "      <td>58E1XVmZTODC67YNjneuXM</td>\n",
       "      <td>Tainted Love</td>\n",
       "      <td>Soft Cell</td>\n",
       "      <td>0.542</td>\n",
       "      <td>0.450</td>\n",
       "      <td>7.0</td>\n",
       "      <td>-9.931</td>\n",
       "      <td>0.0</td>\n",
       "      <td>0.0361</td>\n",
       "      <td>0.5580</td>\n",
       "      <td>0.000006</td>\n",
       "      <td>0.5790</td>\n",
       "      <td>0.626</td>\n",
       "      <td>144.437</td>\n",
       "      <td>Sometimes I feel I've got to Run away I've got...</td>\n",
       "      <td>-1.0</td>\n",
       "      <td>0.370000</td>\n",
       "    </tr>\n",
       "    <tr>\n",
       "      <th>3</th>\n",
       "      <td>2HuHopKnnuGQEpGb0CssCs</td>\n",
       "      <td>Hungry Like the Wolf</td>\n",
       "      <td>Duran Duran</td>\n",
       "      <td>0.654</td>\n",
       "      <td>0.903</td>\n",
       "      <td>0.0</td>\n",
       "      <td>-5.252</td>\n",
       "      <td>1.0</td>\n",
       "      <td>0.0798</td>\n",
       "      <td>0.0222</td>\n",
       "      <td>0.000000</td>\n",
       "      <td>0.2410</td>\n",
       "      <td>0.607</td>\n",
       "      <td>129.442</td>\n",
       "      <td>Darken the city night is a wire Steam in the s...</td>\n",
       "      <td>5.0</td>\n",
       "      <td>0.033333</td>\n",
       "    </tr>\n",
       "    <tr>\n",
       "      <th>4</th>\n",
       "      <td>1QbQL5m30YNvukitIqAnFG</td>\n",
       "      <td>Sunglasses At Night</td>\n",
       "      <td>Corey Hart</td>\n",
       "      <td>0.686</td>\n",
       "      <td>0.609</td>\n",
       "      <td>10.0</td>\n",
       "      <td>-11.469</td>\n",
       "      <td>0.0</td>\n",
       "      <td>0.0444</td>\n",
       "      <td>0.2580</td>\n",
       "      <td>0.000150</td>\n",
       "      <td>0.1130</td>\n",
       "      <td>0.719</td>\n",
       "      <td>127.736</td>\n",
       "      <td>I wear my sunglasses at night So I can so I ca...</td>\n",
       "      <td>-6.0</td>\n",
       "      <td>0.000000</td>\n",
       "    </tr>\n",
       "  </tbody>\n",
       "</table>\n",
       "</div>"
      ],
      "text/plain": [
       "                 track id                         track name           artist  \\\n",
       "0  3fH4KjXFYMmljxrcGrbPj9        Don't You (Forget About Me)     Simple Minds   \n",
       "1  4RvWPyQ5RL0ao9LPZeSouE  Everybody Wants To Rule The World  Tears For Fears   \n",
       "2  58E1XVmZTODC67YNjneuXM                       Tainted Love        Soft Cell   \n",
       "3  2HuHopKnnuGQEpGb0CssCs               Hungry Like the Wolf      Duran Duran   \n",
       "4  1QbQL5m30YNvukitIqAnFG                Sunglasses At Night       Corey Hart   \n",
       "\n",
       "   danceability  energy   key  loudness  mode  speechiness  acousticness  \\\n",
       "0         0.660   0.816   2.0    -6.610   1.0       0.0299        0.1680   \n",
       "1         0.645   0.795   7.0   -12.095   1.0       0.0527        0.3470   \n",
       "2         0.542   0.450   7.0    -9.931   0.0       0.0361        0.5580   \n",
       "3         0.654   0.903   0.0    -5.252   1.0       0.0798        0.0222   \n",
       "4         0.686   0.609  10.0   -11.469   0.0       0.0444        0.2580   \n",
       "\n",
       "   instrumentalness  liveness  valence    tempo  \\\n",
       "0          0.018100    0.0608    0.678  111.346   \n",
       "1          0.003890    0.1040    0.535  112.067   \n",
       "2          0.000006    0.5790    0.626  144.437   \n",
       "3          0.000000    0.2410    0.607  129.442   \n",
       "4          0.000150    0.1130    0.719  127.736   \n",
       "\n",
       "                                              lyrics  afinn  sentiment  \n",
       "0  Hey hey hey hey Ooh-hoo-ooh-ohh Won't you come...    1.0  -0.006061  \n",
       "1  Welcome to your life There's no turning back E...    4.0   0.371429  \n",
       "2  Sometimes I feel I've got to Run away I've got...   -1.0   0.370000  \n",
       "3  Darken the city night is a wire Steam in the s...    5.0   0.033333  \n",
       "4  I wear my sunglasses at night So I can so I ca...   -6.0   0.000000  "
      ]
     },
     "execution_count": 146,
     "metadata": {},
     "output_type": "execute_result"
    }
   ],
   "source": [
    "df_train['afinn'] = df_train['lyrics'].apply(lambda x: Afinn().score(x))\n",
    "df_train['sentiment'] = df_train['lyrics'].apply(lambda x: TextBlob(x).sentiment.polarity)\n",
    "df_test['afinn'] = df_test['lyrics'].apply(lambda x: Afinn().score(x))\n",
    "df_test['sentiment'] = df_test['lyrics'].apply(lambda x: TextBlob(x).sentiment.polarity)\n",
    "df_train.head()"
   ]
  },
  {
   "cell_type": "code",
   "execution_count": 194,
   "metadata": {
    "ExecuteTime": {
     "end_time": "2020-08-24T05:22:43.692032Z",
     "start_time": "2020-08-24T05:22:43.685736Z"
    }
   },
   "outputs": [],
   "source": [
    "@labeling_function()\n",
    "def lf_energy(x):\n",
    "    return DANCE if x['energy'] >= 0.7 else CHILL\n",
    "\n",
    "@labeling_function()\n",
    "def lf_tempo(x):\n",
    "    return CHILL if x['tempo'] <= 105 else ABSTAIN\n",
    "\n",
    "@labeling_function()\n",
    "def lf_danceability(x):\n",
    "    return DANCE if x['danceability'] >= 0.7 else ABSTAIN\n",
    "\n",
    "@labeling_function()\n",
    "def lf_acousticness(x):\n",
    "    return DANCE if x['acousticness'] >= 0.6 else CHILL\n",
    "\n",
    "@labeling_function()\n",
    "def lf_loudness(x):\n",
    "    return CHILL if x['loudness'] <= -8 else ABSTAIN\n",
    "\n"
   ]
  },
  {
   "cell_type": "code",
   "execution_count": 195,
   "metadata": {
    "ExecuteTime": {
     "end_time": "2020-08-24T05:22:44.833167Z",
     "start_time": "2020-08-24T05:22:44.410943Z"
    }
   },
   "outputs": [
    {
     "name": "stderr",
     "output_type": "stream",
     "text": [
      "100%|██████████| 540/540 [00:00<00:00, 8309.24it/s]\n"
     ]
    },
    {
     "data": {
      "text/html": [
       "<div>\n",
       "<style scoped>\n",
       "    .dataframe tbody tr th:only-of-type {\n",
       "        vertical-align: middle;\n",
       "    }\n",
       "\n",
       "    .dataframe tbody tr th {\n",
       "        vertical-align: top;\n",
       "    }\n",
       "\n",
       "    .dataframe thead th {\n",
       "        text-align: right;\n",
       "    }\n",
       "</style>\n",
       "<table border=\"1\" class=\"dataframe\">\n",
       "  <thead>\n",
       "    <tr style=\"text-align: right;\">\n",
       "      <th></th>\n",
       "      <th>track id</th>\n",
       "      <th>track name</th>\n",
       "      <th>artist</th>\n",
       "      <th>danceability</th>\n",
       "      <th>energy</th>\n",
       "      <th>key</th>\n",
       "      <th>loudness</th>\n",
       "      <th>mode</th>\n",
       "      <th>speechiness</th>\n",
       "      <th>acousticness</th>\n",
       "      <th>instrumentalness</th>\n",
       "      <th>liveness</th>\n",
       "      <th>valence</th>\n",
       "      <th>tempo</th>\n",
       "      <th>lyrics</th>\n",
       "      <th>afinn</th>\n",
       "      <th>sentiment</th>\n",
       "      <th>label</th>\n",
       "      <th>proba</th>\n",
       "    </tr>\n",
       "  </thead>\n",
       "  <tbody>\n",
       "    <tr>\n",
       "      <th>0</th>\n",
       "      <td>3fH4KjXFYMmljxrcGrbPj9</td>\n",
       "      <td>Don't You (Forget About Me)</td>\n",
       "      <td>Simple Minds</td>\n",
       "      <td>0.660</td>\n",
       "      <td>0.816</td>\n",
       "      <td>2.0</td>\n",
       "      <td>-6.610</td>\n",
       "      <td>1.0</td>\n",
       "      <td>0.0299</td>\n",
       "      <td>0.1680</td>\n",
       "      <td>0.018100</td>\n",
       "      <td>0.0608</td>\n",
       "      <td>0.678</td>\n",
       "      <td>111.346</td>\n",
       "      <td>Hey hey hey hey Ooh-hoo-ooh-ohh Won't you come...</td>\n",
       "      <td>1.0</td>\n",
       "      <td>-0.006061</td>\n",
       "      <td>1</td>\n",
       "      <td>0.97</td>\n",
       "    </tr>\n",
       "    <tr>\n",
       "      <th>1</th>\n",
       "      <td>4RvWPyQ5RL0ao9LPZeSouE</td>\n",
       "      <td>Everybody Wants To Rule The World</td>\n",
       "      <td>Tears For Fears</td>\n",
       "      <td>0.645</td>\n",
       "      <td>0.795</td>\n",
       "      <td>7.0</td>\n",
       "      <td>-12.095</td>\n",
       "      <td>1.0</td>\n",
       "      <td>0.0527</td>\n",
       "      <td>0.3470</td>\n",
       "      <td>0.003890</td>\n",
       "      <td>0.1040</td>\n",
       "      <td>0.535</td>\n",
       "      <td>112.067</td>\n",
       "      <td>Welcome to your life There's no turning back E...</td>\n",
       "      <td>4.0</td>\n",
       "      <td>0.371429</td>\n",
       "      <td>1</td>\n",
       "      <td>0.71</td>\n",
       "    </tr>\n",
       "    <tr>\n",
       "      <th>2</th>\n",
       "      <td>58E1XVmZTODC67YNjneuXM</td>\n",
       "      <td>Tainted Love</td>\n",
       "      <td>Soft Cell</td>\n",
       "      <td>0.542</td>\n",
       "      <td>0.450</td>\n",
       "      <td>7.0</td>\n",
       "      <td>-9.931</td>\n",
       "      <td>0.0</td>\n",
       "      <td>0.0361</td>\n",
       "      <td>0.5580</td>\n",
       "      <td>0.000006</td>\n",
       "      <td>0.5790</td>\n",
       "      <td>0.626</td>\n",
       "      <td>144.437</td>\n",
       "      <td>Sometimes I feel I've got to Run away I've got...</td>\n",
       "      <td>-1.0</td>\n",
       "      <td>0.370000</td>\n",
       "      <td>0</td>\n",
       "      <td>0.08</td>\n",
       "    </tr>\n",
       "    <tr>\n",
       "      <th>3</th>\n",
       "      <td>2HuHopKnnuGQEpGb0CssCs</td>\n",
       "      <td>Hungry Like the Wolf</td>\n",
       "      <td>Duran Duran</td>\n",
       "      <td>0.654</td>\n",
       "      <td>0.903</td>\n",
       "      <td>0.0</td>\n",
       "      <td>-5.252</td>\n",
       "      <td>1.0</td>\n",
       "      <td>0.0798</td>\n",
       "      <td>0.0222</td>\n",
       "      <td>0.000000</td>\n",
       "      <td>0.2410</td>\n",
       "      <td>0.607</td>\n",
       "      <td>129.442</td>\n",
       "      <td>Darken the city night is a wire Steam in the s...</td>\n",
       "      <td>5.0</td>\n",
       "      <td>0.033333</td>\n",
       "      <td>1</td>\n",
       "      <td>0.97</td>\n",
       "    </tr>\n",
       "    <tr>\n",
       "      <th>4</th>\n",
       "      <td>1QbQL5m30YNvukitIqAnFG</td>\n",
       "      <td>Sunglasses At Night</td>\n",
       "      <td>Corey Hart</td>\n",
       "      <td>0.686</td>\n",
       "      <td>0.609</td>\n",
       "      <td>10.0</td>\n",
       "      <td>-11.469</td>\n",
       "      <td>0.0</td>\n",
       "      <td>0.0444</td>\n",
       "      <td>0.2580</td>\n",
       "      <td>0.000150</td>\n",
       "      <td>0.1130</td>\n",
       "      <td>0.719</td>\n",
       "      <td>127.736</td>\n",
       "      <td>I wear my sunglasses at night So I can so I ca...</td>\n",
       "      <td>-6.0</td>\n",
       "      <td>0.000000</td>\n",
       "      <td>0</td>\n",
       "      <td>0.08</td>\n",
       "    </tr>\n",
       "  </tbody>\n",
       "</table>\n",
       "</div>"
      ],
      "text/plain": [
       "                 track id                         track name           artist  \\\n",
       "0  3fH4KjXFYMmljxrcGrbPj9        Don't You (Forget About Me)     Simple Minds   \n",
       "1  4RvWPyQ5RL0ao9LPZeSouE  Everybody Wants To Rule The World  Tears For Fears   \n",
       "2  58E1XVmZTODC67YNjneuXM                       Tainted Love        Soft Cell   \n",
       "3  2HuHopKnnuGQEpGb0CssCs               Hungry Like the Wolf      Duran Duran   \n",
       "4  1QbQL5m30YNvukitIqAnFG                Sunglasses At Night       Corey Hart   \n",
       "\n",
       "   danceability  energy   key  loudness  mode  speechiness  acousticness  \\\n",
       "0         0.660   0.816   2.0    -6.610   1.0       0.0299        0.1680   \n",
       "1         0.645   0.795   7.0   -12.095   1.0       0.0527        0.3470   \n",
       "2         0.542   0.450   7.0    -9.931   0.0       0.0361        0.5580   \n",
       "3         0.654   0.903   0.0    -5.252   1.0       0.0798        0.0222   \n",
       "4         0.686   0.609  10.0   -11.469   0.0       0.0444        0.2580   \n",
       "\n",
       "   instrumentalness  liveness  valence    tempo  \\\n",
       "0          0.018100    0.0608    0.678  111.346   \n",
       "1          0.003890    0.1040    0.535  112.067   \n",
       "2          0.000006    0.5790    0.626  144.437   \n",
       "3          0.000000    0.2410    0.607  129.442   \n",
       "4          0.000150    0.1130    0.719  127.736   \n",
       "\n",
       "                                              lyrics  afinn  sentiment  label  \\\n",
       "0  Hey hey hey hey Ooh-hoo-ooh-ohh Won't you come...    1.0  -0.006061      1   \n",
       "1  Welcome to your life There's no turning back E...    4.0   0.371429      1   \n",
       "2  Sometimes I feel I've got to Run away I've got...   -1.0   0.370000      0   \n",
       "3  Darken the city night is a wire Steam in the s...    5.0   0.033333      1   \n",
       "4  I wear my sunglasses at night So I can so I ca...   -6.0   0.000000      0   \n",
       "\n",
       "   proba  \n",
       "0   0.97  \n",
       "1   0.71  \n",
       "2   0.08  \n",
       "3   0.97  \n",
       "4   0.08  "
      ]
     },
     "execution_count": 195,
     "metadata": {},
     "output_type": "execute_result"
    }
   ],
   "source": [
    "lfs = [lf_energy, lf_tempo, lf_danceability, lf_acousticness, lf_loudness]\n",
    "\n",
    "# Apply the LFs to the unlabeled training data\n",
    "applier = PandasLFApplier(lfs)\n",
    "L_train = applier.apply(df_train)\n",
    "\n",
    "# Train the label model and compute the training labels\n",
    "label_model = LabelModel(cardinality=2, verbose=True)\n",
    "label_model.fit(L_train, n_epochs=500, log_freq=50, seed=123)\n",
    "\n",
    "# Predict labels for the training set and also record label probabilities\n",
    "df_train[\"label\"] = label_model.predict(L=L_train, tie_break_policy=\"abstain\")\n",
    "df_train[\"proba\"] = np.around(label_model.predict_proba(L_train), 2)[:, 1]\n",
    "\n",
    "# Preview the results\n",
    "df_train.head()\n",
    "\n"
   ]
  },
  {
   "cell_type": "code",
   "execution_count": 196,
   "metadata": {
    "ExecuteTime": {
     "end_time": "2020-08-24T05:22:45.264855Z",
     "start_time": "2020-08-24T05:22:45.202438Z"
    }
   },
   "outputs": [
    {
     "name": "stdout",
     "output_type": "stream",
     "text": [
      "WEIGHTS\n",
      "lf_energy 0.76\n",
      "lf_tempo 0.6\n",
      "lf_danceability 0.56\n",
      "lf_acousticness 0.21\n",
      "lf_loudness 0.92\n"
     ]
    }
   ],
   "source": [
    "print(\"WEIGHTS\")\n",
    "for a, b in zip(lfs, np.around(label_model.get_weights(), 2)):\n",
    "    print(a.name, b)"
   ]
  },
  {
   "cell_type": "code",
   "execution_count": 197,
   "metadata": {
    "ExecuteTime": {
     "end_time": "2020-08-24T05:22:46.289063Z",
     "start_time": "2020-08-24T05:22:46.264823Z"
    }
   },
   "outputs": [
    {
     "data": {
      "text/html": [
       "<div>\n",
       "<style scoped>\n",
       "    .dataframe tbody tr th:only-of-type {\n",
       "        vertical-align: middle;\n",
       "    }\n",
       "\n",
       "    .dataframe tbody tr th {\n",
       "        vertical-align: top;\n",
       "    }\n",
       "\n",
       "    .dataframe thead th {\n",
       "        text-align: right;\n",
       "    }\n",
       "</style>\n",
       "<table border=\"1\" class=\"dataframe\">\n",
       "  <thead>\n",
       "    <tr style=\"text-align: right;\">\n",
       "      <th></th>\n",
       "      <th>j</th>\n",
       "      <th>Polarity</th>\n",
       "      <th>Coverage</th>\n",
       "      <th>Overlaps</th>\n",
       "      <th>Conflicts</th>\n",
       "    </tr>\n",
       "  </thead>\n",
       "  <tbody>\n",
       "    <tr>\n",
       "      <th>lf_energy</th>\n",
       "      <td>0</td>\n",
       "      <td>[0, 1]</td>\n",
       "      <td>1.000000</td>\n",
       "      <td>1.000000</td>\n",
       "      <td>0.729630</td>\n",
       "    </tr>\n",
       "    <tr>\n",
       "      <th>lf_tempo</th>\n",
       "      <td>1</td>\n",
       "      <td>[0]</td>\n",
       "      <td>0.333333</td>\n",
       "      <td>0.333333</td>\n",
       "      <td>0.235185</td>\n",
       "    </tr>\n",
       "    <tr>\n",
       "      <th>lf_danceability</th>\n",
       "      <td>2</td>\n",
       "      <td>[1]</td>\n",
       "      <td>0.320370</td>\n",
       "      <td>0.320370</td>\n",
       "      <td>0.318519</td>\n",
       "    </tr>\n",
       "    <tr>\n",
       "      <th>lf_acousticness</th>\n",
       "      <td>3</td>\n",
       "      <td>[0, 1]</td>\n",
       "      <td>1.000000</td>\n",
       "      <td>1.000000</td>\n",
       "      <td>0.729630</td>\n",
       "    </tr>\n",
       "    <tr>\n",
       "      <th>lf_loudness</th>\n",
       "      <td>4</td>\n",
       "      <td>[0]</td>\n",
       "      <td>0.409259</td>\n",
       "      <td>0.409259</td>\n",
       "      <td>0.311111</td>\n",
       "    </tr>\n",
       "  </tbody>\n",
       "</table>\n",
       "</div>"
      ],
      "text/plain": [
       "                 j Polarity  Coverage  Overlaps  Conflicts\n",
       "lf_energy        0   [0, 1]  1.000000  1.000000   0.729630\n",
       "lf_tempo         1      [0]  0.333333  0.333333   0.235185\n",
       "lf_danceability  2      [1]  0.320370  0.320370   0.318519\n",
       "lf_acousticness  3   [0, 1]  1.000000  1.000000   0.729630\n",
       "lf_loudness      4      [0]  0.409259  0.409259   0.311111"
      ]
     },
     "execution_count": 197,
     "metadata": {},
     "output_type": "execute_result"
    }
   ],
   "source": [
    "from snorkel.labeling import LFAnalysis\n",
    "\n",
    "LFAnalysis(L=L_train, lfs=lfs).lf_summary()"
   ]
  },
  {
   "cell_type": "code",
   "execution_count": 198,
   "metadata": {
    "ExecuteTime": {
     "end_time": "2020-08-24T05:22:47.635967Z",
     "start_time": "2020-08-24T05:22:47.623298Z"
    }
   },
   "outputs": [
    {
     "name": "stdout",
     "output_type": "stream",
     "text": [
      "INCLUDES  246\n",
      "EXCLUDES  294\n",
      "ABSTAINS    0\n"
     ]
    }
   ],
   "source": [
    "# Look at the breakdown of the predicted labels\n",
    "includes = df_train.loc[df_train['label'] == 1]\n",
    "excludes = df_train.loc[df_train['label'] == 0]\n",
    "abstains = df_train.loc[df_train['label'] == -1]\n",
    "print('INCLUDES' + '{:>5}'.format(len(includes)))\n",
    "print('EXCLUDES' + '{:>5}'.format(len(excludes)))\n",
    "print('ABSTAINS' + '{:>5}'.format(len(abstains)))"
   ]
  },
  {
   "cell_type": "code",
   "execution_count": 199,
   "metadata": {
    "ExecuteTime": {
     "end_time": "2020-08-24T05:22:48.587713Z",
     "start_time": "2020-08-24T05:22:48.501072Z"
    }
   },
   "outputs": [
    {
     "name": "stderr",
     "output_type": "stream",
     "text": [
      "100%|██████████| 319/319 [00:00<00:00, 8150.23it/s]\n"
     ]
    },
    {
     "data": {
      "text/html": [
       "<div>\n",
       "<style scoped>\n",
       "    .dataframe tbody tr th:only-of-type {\n",
       "        vertical-align: middle;\n",
       "    }\n",
       "\n",
       "    .dataframe tbody tr th {\n",
       "        vertical-align: top;\n",
       "    }\n",
       "\n",
       "    .dataframe thead th {\n",
       "        text-align: right;\n",
       "    }\n",
       "</style>\n",
       "<table border=\"1\" class=\"dataframe\">\n",
       "  <thead>\n",
       "    <tr style=\"text-align: right;\">\n",
       "      <th></th>\n",
       "      <th>track id</th>\n",
       "      <th>gt label</th>\n",
       "      <th>track name</th>\n",
       "      <th>artist</th>\n",
       "      <th>danceability</th>\n",
       "      <th>energy</th>\n",
       "      <th>key</th>\n",
       "      <th>loudness</th>\n",
       "      <th>mode</th>\n",
       "      <th>speechiness</th>\n",
       "      <th>acousticness</th>\n",
       "      <th>instrumentalness</th>\n",
       "      <th>liveness</th>\n",
       "      <th>valence</th>\n",
       "      <th>tempo</th>\n",
       "      <th>lyrics</th>\n",
       "      <th>afinn</th>\n",
       "      <th>sentiment</th>\n",
       "      <th>label</th>\n",
       "      <th>proba</th>\n",
       "    </tr>\n",
       "  </thead>\n",
       "  <tbody>\n",
       "    <tr>\n",
       "      <th>0</th>\n",
       "      <td>2u6Jm2klS4yvAlbSHlxUwI</td>\n",
       "      <td>1.0</td>\n",
       "      <td>Alane</td>\n",
       "      <td>Robin Schulz</td>\n",
       "      <td>0.581</td>\n",
       "      <td>0.799</td>\n",
       "      <td>3</td>\n",
       "      <td>-6.660</td>\n",
       "      <td>1</td>\n",
       "      <td>0.1640</td>\n",
       "      <td>0.04190</td>\n",
       "      <td>0.000009</td>\n",
       "      <td>0.1100</td>\n",
       "      <td>0.662</td>\n",
       "      <td>124.002</td>\n",
       "      <td></td>\n",
       "      <td>0.0</td>\n",
       "      <td>0.000000</td>\n",
       "      <td>1</td>\n",
       "      <td>0.97</td>\n",
       "    </tr>\n",
       "    <tr>\n",
       "      <th>1</th>\n",
       "      <td>2hCKAnd2BPo2VD65XZC3rH</td>\n",
       "      <td>1.0</td>\n",
       "      <td>Your Place or Mine</td>\n",
       "      <td>Wahlstedt</td>\n",
       "      <td>0.863</td>\n",
       "      <td>0.608</td>\n",
       "      <td>7</td>\n",
       "      <td>-2.996</td>\n",
       "      <td>1</td>\n",
       "      <td>0.1490</td>\n",
       "      <td>0.18000</td>\n",
       "      <td>0.000003</td>\n",
       "      <td>0.1140</td>\n",
       "      <td>0.389</td>\n",
       "      <td>126.053</td>\n",
       "      <td></td>\n",
       "      <td>0.0</td>\n",
       "      <td>0.000000</td>\n",
       "      <td>1</td>\n",
       "      <td>0.56</td>\n",
       "    </tr>\n",
       "    <tr>\n",
       "      <th>2</th>\n",
       "      <td>73h6Ma5QhBFrshEN2CTevS</td>\n",
       "      <td>1.0</td>\n",
       "      <td>Someday</td>\n",
       "      <td>Kygo</td>\n",
       "      <td>0.612</td>\n",
       "      <td>0.686</td>\n",
       "      <td>7</td>\n",
       "      <td>-6.838</td>\n",
       "      <td>1</td>\n",
       "      <td>0.1200</td>\n",
       "      <td>0.17300</td>\n",
       "      <td>0.000000</td>\n",
       "      <td>0.1410</td>\n",
       "      <td>0.326</td>\n",
       "      <td>122.115</td>\n",
       "      <td>Come and take this heart While I'm away 'Cause...</td>\n",
       "      <td>1.0</td>\n",
       "      <td>0.081667</td>\n",
       "      <td>1</td>\n",
       "      <td>0.52</td>\n",
       "    </tr>\n",
       "    <tr>\n",
       "      <th>3</th>\n",
       "      <td>75rGONmoi48LLYBFaGiYsv</td>\n",
       "      <td>1.0</td>\n",
       "      <td>Both Of Us - Edit</td>\n",
       "      <td>Jayda G</td>\n",
       "      <td>0.735</td>\n",
       "      <td>0.710</td>\n",
       "      <td>11</td>\n",
       "      <td>-10.222</td>\n",
       "      <td>1</td>\n",
       "      <td>0.0766</td>\n",
       "      <td>0.00851</td>\n",
       "      <td>0.762000</td>\n",
       "      <td>0.0684</td>\n",
       "      <td>0.507</td>\n",
       "      <td>123.962</td>\n",
       "      <td>I can love enough for the both of us I can I c...</td>\n",
       "      <td>6.0</td>\n",
       "      <td>0.250000</td>\n",
       "      <td>1</td>\n",
       "      <td>0.75</td>\n",
       "    </tr>\n",
       "    <tr>\n",
       "      <th>4</th>\n",
       "      <td>5zn3TuX5oBHrEv8R9KyLir</td>\n",
       "      <td>1.0</td>\n",
       "      <td>Ladida (My Heart Goes Boom) [feat. ILIRA]</td>\n",
       "      <td>CRISPIE</td>\n",
       "      <td>0.682</td>\n",
       "      <td>0.812</td>\n",
       "      <td>0</td>\n",
       "      <td>-4.931</td>\n",
       "      <td>1</td>\n",
       "      <td>0.0307</td>\n",
       "      <td>0.11100</td>\n",
       "      <td>0.000021</td>\n",
       "      <td>0.1370</td>\n",
       "      <td>0.455</td>\n",
       "      <td>126.040</td>\n",
       "      <td>La di da da La la la la la la Da di da da La l...</td>\n",
       "      <td>0.0</td>\n",
       "      <td>-0.031019</td>\n",
       "      <td>1</td>\n",
       "      <td>0.97</td>\n",
       "    </tr>\n",
       "  </tbody>\n",
       "</table>\n",
       "</div>"
      ],
      "text/plain": [
       "                 track id  gt label  \\\n",
       "0  2u6Jm2klS4yvAlbSHlxUwI       1.0   \n",
       "1  2hCKAnd2BPo2VD65XZC3rH       1.0   \n",
       "2  73h6Ma5QhBFrshEN2CTevS       1.0   \n",
       "3  75rGONmoi48LLYBFaGiYsv       1.0   \n",
       "4  5zn3TuX5oBHrEv8R9KyLir       1.0   \n",
       "\n",
       "                                  track name        artist  danceability  \\\n",
       "0                                      Alane  Robin Schulz         0.581   \n",
       "1                         Your Place or Mine     Wahlstedt         0.863   \n",
       "2                                    Someday          Kygo         0.612   \n",
       "3                          Both Of Us - Edit       Jayda G         0.735   \n",
       "4  Ladida (My Heart Goes Boom) [feat. ILIRA]       CRISPIE         0.682   \n",
       "\n",
       "   energy  key  loudness  mode  speechiness  acousticness  instrumentalness  \\\n",
       "0   0.799    3    -6.660     1       0.1640       0.04190          0.000009   \n",
       "1   0.608    7    -2.996     1       0.1490       0.18000          0.000003   \n",
       "2   0.686    7    -6.838     1       0.1200       0.17300          0.000000   \n",
       "3   0.710   11   -10.222     1       0.0766       0.00851          0.762000   \n",
       "4   0.812    0    -4.931     1       0.0307       0.11100          0.000021   \n",
       "\n",
       "   liveness  valence    tempo  \\\n",
       "0    0.1100    0.662  124.002   \n",
       "1    0.1140    0.389  126.053   \n",
       "2    0.1410    0.326  122.115   \n",
       "3    0.0684    0.507  123.962   \n",
       "4    0.1370    0.455  126.040   \n",
       "\n",
       "                                              lyrics  afinn  sentiment  label  \\\n",
       "0                                                       0.0   0.000000      1   \n",
       "1                                                       0.0   0.000000      1   \n",
       "2  Come and take this heart While I'm away 'Cause...    1.0   0.081667      1   \n",
       "3  I can love enough for the both of us I can I c...    6.0   0.250000      1   \n",
       "4  La di da da La la la la la la Da di da da La l...    0.0  -0.031019      1   \n",
       "\n",
       "   proba  \n",
       "0   0.97  \n",
       "1   0.56  \n",
       "2   0.52  \n",
       "3   0.75  \n",
       "4   0.97  "
      ]
     },
     "execution_count": 199,
     "metadata": {},
     "output_type": "execute_result"
    }
   ],
   "source": [
    "# Use the same LFs and PandasLF Applier to predict labels and probabilities for the test set\n",
    "L_test = applier.apply(df_test)\n",
    "df_test[\"label\"] = label_model.predict(L=L_test, tie_break_policy=\"abstain\")\n",
    "df_test[\"proba\"] = np.around(label_model.predict_proba(L_test), 2)[:, 1]\n",
    "\n",
    "# Preview the validation results\n",
    "df_test.head()"
   ]
  },
  {
   "cell_type": "code",
   "execution_count": 200,
   "metadata": {
    "ExecuteTime": {
     "end_time": "2020-08-24T05:22:49.599083Z",
     "start_time": "2020-08-24T05:22:49.575075Z"
    }
   },
   "outputs": [
    {
     "data": {
      "text/html": [
       "<div>\n",
       "<style scoped>\n",
       "    .dataframe tbody tr th:only-of-type {\n",
       "        vertical-align: middle;\n",
       "    }\n",
       "\n",
       "    .dataframe tbody tr th {\n",
       "        vertical-align: top;\n",
       "    }\n",
       "\n",
       "    .dataframe thead th {\n",
       "        text-align: right;\n",
       "    }\n",
       "</style>\n",
       "<table border=\"1\" class=\"dataframe\">\n",
       "  <thead>\n",
       "    <tr style=\"text-align: right;\">\n",
       "      <th></th>\n",
       "      <th>j</th>\n",
       "      <th>Polarity</th>\n",
       "      <th>Coverage</th>\n",
       "      <th>Overlaps</th>\n",
       "      <th>Conflicts</th>\n",
       "    </tr>\n",
       "  </thead>\n",
       "  <tbody>\n",
       "    <tr>\n",
       "      <th>lf_energy</th>\n",
       "      <td>0</td>\n",
       "      <td>[0, 1]</td>\n",
       "      <td>1.000000</td>\n",
       "      <td>1.000000</td>\n",
       "      <td>0.729630</td>\n",
       "    </tr>\n",
       "    <tr>\n",
       "      <th>lf_tempo</th>\n",
       "      <td>1</td>\n",
       "      <td>[0]</td>\n",
       "      <td>0.333333</td>\n",
       "      <td>0.333333</td>\n",
       "      <td>0.235185</td>\n",
       "    </tr>\n",
       "    <tr>\n",
       "      <th>lf_danceability</th>\n",
       "      <td>2</td>\n",
       "      <td>[1]</td>\n",
       "      <td>0.320370</td>\n",
       "      <td>0.320370</td>\n",
       "      <td>0.318519</td>\n",
       "    </tr>\n",
       "    <tr>\n",
       "      <th>lf_acousticness</th>\n",
       "      <td>3</td>\n",
       "      <td>[0, 1]</td>\n",
       "      <td>1.000000</td>\n",
       "      <td>1.000000</td>\n",
       "      <td>0.729630</td>\n",
       "    </tr>\n",
       "    <tr>\n",
       "      <th>lf_loudness</th>\n",
       "      <td>4</td>\n",
       "      <td>[0]</td>\n",
       "      <td>0.409259</td>\n",
       "      <td>0.409259</td>\n",
       "      <td>0.311111</td>\n",
       "    </tr>\n",
       "  </tbody>\n",
       "</table>\n",
       "</div>"
      ],
      "text/plain": [
       "                 j Polarity  Coverage  Overlaps  Conflicts\n",
       "lf_energy        0   [0, 1]  1.000000  1.000000   0.729630\n",
       "lf_tempo         1      [0]  0.333333  0.333333   0.235185\n",
       "lf_danceability  2      [1]  0.320370  0.320370   0.318519\n",
       "lf_acousticness  3   [0, 1]  1.000000  1.000000   0.729630\n",
       "lf_loudness      4      [0]  0.409259  0.409259   0.311111"
      ]
     },
     "execution_count": 200,
     "metadata": {},
     "output_type": "execute_result"
    }
   ],
   "source": [
    "LFAnalysis(L=L_train, lfs=lfs).lf_summary()"
   ]
  },
  {
   "cell_type": "code",
   "execution_count": 201,
   "metadata": {
    "ExecuteTime": {
     "end_time": "2020-08-24T05:22:50.592895Z",
     "start_time": "2020-08-24T05:22:50.545670Z"
    }
   },
   "outputs": [],
   "source": [
    "# Make a list of \"ground truth\" labels for test set\n",
    "Y_test = np.array(df_test['gt label'])"
   ]
  },
  {
   "cell_type": "code",
   "execution_count": 202,
   "metadata": {
    "ExecuteTime": {
     "end_time": "2020-08-24T05:22:51.843084Z",
     "start_time": "2020-08-24T05:22:51.830037Z"
    }
   },
   "outputs": [],
   "source": [
    "from snorkel.labeling.model import MajorityLabelVoter\n",
    "\n",
    "majority_model = MajorityLabelVoter()\n",
    "preds_test = majority_model.predict(L=L_test)"
   ]
  },
  {
   "cell_type": "code",
   "execution_count": 203,
   "metadata": {
    "ExecuteTime": {
     "end_time": "2020-08-24T05:22:52.783556Z",
     "start_time": "2020-08-24T05:22:52.759717Z"
    }
   },
   "outputs": [
    {
     "name": "stderr",
     "output_type": "stream",
     "text": [
      "WARNING:root:Metrics calculated over data points with non-abstain labels only\n",
      "WARNING:root:Metrics calculated over data points with non-abstain labels only\n"
     ]
    },
    {
     "name": "stdout",
     "output_type": "stream",
     "text": [
      "Majority Vote Accuracy:   85.2%\n",
      "Label Model Accuracy:     93.7%\n"
     ]
    }
   ],
   "source": [
    "majority_acc = majority_model.score(L=L_test, Y=Y_test, tie_break_policy=\"abstain\")['accuracy']\n",
    "print(f\"{'Majority Vote Accuracy:':<25} {majority_acc * 100:.1f}%\")\n",
    "      \n",
    "label_model_acc = label_model.score(L=L_test, Y=Y_test, tie_break_policy=\"abstain\")['accuracy']\n",
    "print(f\"{'Label Model Accuracy:':<25} {label_model_acc * 100:.1f}%\")"
   ]
  },
  {
   "cell_type": "code",
   "execution_count": 204,
   "metadata": {
    "ExecuteTime": {
     "end_time": "2020-08-24T05:22:54.299352Z",
     "start_time": "2020-08-24T05:22:54.287901Z"
    }
   },
   "outputs": [
    {
     "name": "stdout",
     "output_type": "stream",
     "text": [
      "INCLUDES  225\n",
      "EXCLUDES   94\n",
      "ABSTAINS    0\n"
     ]
    }
   ],
   "source": [
    "# Look at the breakdown of the predicted labels on the validation set\n",
    "val_includes = df_test.loc[df_test['label'] == 1]\n",
    "val_excludes = df_test.loc[df_test['label'] == 0]\n",
    "val_abstains = df_test.loc[df_test['label'] == -1]\n",
    "print('INCLUDES' + '{:>5}'.format(len(val_includes)))\n",
    "print('EXCLUDES' + '{:>5}'.format(len(val_excludes)))\n",
    "print('ABSTAINS' + '{:>5}'.format(len(val_abstains)))"
   ]
  },
  {
   "cell_type": "code",
   "execution_count": 205,
   "metadata": {
    "ExecuteTime": {
     "end_time": "2020-08-24T05:23:00.934181Z",
     "start_time": "2020-08-24T05:23:00.925067Z"
    }
   },
   "outputs": [
    {
     "name": "stdout",
     "output_type": "stream",
     "text": [
      "[[ 87  13]\n",
      " [  7 212]]\n"
     ]
    }
   ],
   "source": [
    "from sklearn.metrics import confusion_matrix\n",
    "\n",
    "print(confusion_matrix(df_test['gt label'], df_test['label']))"
   ]
  },
  {
   "cell_type": "code",
   "execution_count": null,
   "metadata": {},
   "outputs": [],
   "source": []
  }
 ],
 "metadata": {
  "kernelspec": {
   "display_name": "Python 3",
   "language": "python",
   "name": "python3"
  },
  "language_info": {
   "codemirror_mode": {
    "name": "ipython",
    "version": 3
   },
   "file_extension": ".py",
   "mimetype": "text/x-python",
   "name": "python",
   "nbconvert_exporter": "python",
   "pygments_lexer": "ipython3",
   "version": "3.6.6"
  },
  "toc": {
   "base_numbering": 1,
   "nav_menu": {},
   "number_sections": true,
   "sideBar": true,
   "skip_h1_title": false,
   "title_cell": "Table of Contents",
   "title_sidebar": "Contents",
   "toc_cell": false,
   "toc_position": {},
   "toc_section_display": true,
   "toc_window_display": false
  },
  "varInspector": {
   "cols": {
    "lenName": 16,
    "lenType": 16,
    "lenVar": 40
   },
   "kernels_config": {
    "python": {
     "delete_cmd_postfix": "",
     "delete_cmd_prefix": "del ",
     "library": "var_list.py",
     "varRefreshCmd": "print(var_dic_list())"
    },
    "r": {
     "delete_cmd_postfix": ") ",
     "delete_cmd_prefix": "rm(",
     "library": "var_list.r",
     "varRefreshCmd": "cat(var_dic_list()) "
    }
   },
   "types_to_exclude": [
    "module",
    "function",
    "builtin_function_or_method",
    "instance",
    "_Feature"
   ],
   "window_display": false
  }
 },
 "nbformat": 4,
 "nbformat_minor": 2
}
